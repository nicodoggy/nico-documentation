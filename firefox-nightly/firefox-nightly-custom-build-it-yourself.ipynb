{
 "cells": [
  {
   "cell_type": "markdown",
   "metadata": {},
   "source": [
    "# How to install your own version of Firefox from the source and change the new tab page in Linux\n",
    "### Credit to [this Firefox documentation page ![icon](static/about-logo.png)](https://firefox-source-docs.mozilla.org/setup/linux_build.html)"
   ]
  },
  {
   "cell_type": "markdown",
   "metadata": {},
   "source": [
    "> Note: This may be out of date. If you find this useful, great. But it is not guaranteed to be what you need or want."
   ]
  },
  {
   "cell_type": "markdown",
   "metadata": {},
   "source": [
    "<hr/>"
   ]
  },
  {
   "cell_type": "markdown",
   "metadata": {},
   "source": [
    "## Installing the necessary dependancies"
   ]
  },
  {
   "cell_type": "markdown",
   "metadata": {},
   "source": [
    "### Mercurial"
   ]
  },
  {
   "cell_type": "markdown",
   "metadata": {},
   "source": [
    "Firefox's source code is in Mecurial repositories. To install it, run this command:"
   ]
  },
  {
   "cell_type": "code",
   "execution_count": null,
   "metadata": {
    "vscode": {
     "languageId": "shellscript"
    }
   },
   "outputs": [],
   "source": [
    "python3 -m pip install --user mercurial"
   ]
  },
  {
   "cell_type": "markdown",
   "metadata": {},
   "source": [
    "You can test that it's installed by running this:"
   ]
  },
  {
   "cell_type": "code",
   "execution_count": null,
   "metadata": {
    "vscode": {
     "languageId": "shellscript"
    }
   },
   "outputs": [],
   "source": [
    "hg version"
   ]
  },
  {
   "cell_type": "markdown",
   "metadata": {},
   "source": [
    "You should see something like this:"
   ]
  },
  {
   "cell_type": "markdown",
   "metadata": {},
   "source": [
    "    Mercurial Distributed SCM (version 6.1.4)\n",
    "    (see https://mercurial-scm.org for more information)\n",
    "\n",
    "    Copyright (C) 2005-2022 Olivia Mackall and others\n",
    "    This is free software; see the source for copying conditions. There is NO\n",
    "    warranty; not even for MERCHANTABILITY or FITNESS FOR A PARTICULAR PURPOSE.\n"
   ]
  },
  {
   "cell_type": "markdown",
   "metadata": {},
   "source": [
    "## Downloading the source code"
   ]
  },
  {
   "cell_type": "markdown",
   "metadata": {},
   "source": [
    "Now that it's installed, you can download the source code in the form of this Python script, which will guide you through the setup process.\n",
    "\n",
    "This will download it using curl and should ask where you want the destination folder to be. In this notebook, the path will be \"~/Downloads/bootstrap.py/\"."
   ]
  },
  {
   "cell_type": "code",
   "execution_count": null,
   "metadata": {
    "vscode": {
     "languageId": "shellscript"
    }
   },
   "outputs": [],
   "source": [
    "curl https://hg.mozilla.org/mozilla-central/raw-file/default/python/mozboot/bin/bootstrap.py -O"
   ]
  },
  {
   "cell_type": "markdown",
   "metadata": {},
   "source": [
    "Now run the python script:"
   ]
  },
  {
   "cell_type": "code",
   "execution_count": null,
   "metadata": {
    "vscode": {
     "languageId": "shellscript"
    }
   },
   "outputs": [],
   "source": [
    "python3 bootstrap.py"
   ]
  },
  {
   "cell_type": "markdown",
   "metadata": {},
   "source": [
    "If you run into an error or need further help, go to the documentation page by the main header and below:\n",
    "\n",
    "[https://firefox-source-docs.mozilla.org/setup/linux_build.html ![icon](static/firefox.ico)](https://firefox-source-docs.mozilla.org/setup/linux_build.html)"
   ]
  },
  {
   "cell_type": "markdown",
   "metadata": {},
   "source": [
    "<hr/>"
   ]
  },
  {
   "cell_type": "markdown",
   "metadata": {},
   "source": [
    "## Building Firefox Nightly"
   ]
  },
  {
   "cell_type": "markdown",
   "metadata": {},
   "source": [
    "Once that finishes, you can and run the following command:"
   ]
  },
  {
   "cell_type": "code",
   "execution_count": null,
   "metadata": {
    "vscode": {
     "languageId": "shellscript"
    }
   },
   "outputs": [],
   "source": [
    "hg up -C central"
   ]
  },
  {
   "cell_type": "markdown",
   "metadata": {},
   "source": [
    "Now that you've done that, you can start changing your code!\n",
    "\n",
    "This notebook has some suggestions, but you can change whatever you want."
   ]
  },
  {
   "cell_type": "markdown",
   "metadata": {},
   "source": [
    "### Changing the code"
   ]
  },
  {
   "cell_type": "markdown",
   "metadata": {},
   "source": [
    "The location to the new tab page is:\n",
    "\n",
    "\"~/Downloads/bootstrap.py/browser/components/newtab/prerendered/activity-stream-noscripts.html\"\n",
    "\n",
    "I made things in it spin and changed the images. I will show you how soon."
   ]
  },
  {
   "cell_type": "markdown",
   "metadata": {},
   "source": [
    "In the new tab page, there is a logo, ![logo](static/about-logo.png), with a wordmark, ![wordmark](static/firefox-wordmark.svg).\n",
    "\n",
    "The icon has an `HTML` class called `logo`, and the wordmark has an `HTML` class called `wordmark`. There are also some elements with an `HTML` class of icon, like the settings button and the `...` buttons. \n",
    "\n",
    "With a `<style></style>`, you can add an animation to all of those classes. If you need some examples of CSS animations, you can try [w3schools.com](https://www.w3schools.com/css/css3_animations.asp).\n",
    "\n",
    "> Note: You will not be able to just add a link element (`<link />`) to the CSS. It will give you an error in the console. To solve this, copy the CSS and put it into an inline style element (`<style></style>`).\n"
   ]
  },
  {
   "cell_type": "markdown",
   "metadata": {},
   "source": [
    "Here is an example of some animations you can do."
   ]
  },
  {
   "cell_type": "markdown",
   "metadata": {},
   "source": [
    "```html\n",
    "<style>\n",
    "  .logo {animation:w3-spin 2s infinite cubic-bezier(.68,-0.55,.27,1.55);@keyframes w3-spin{0%{transform:rotate(0deg)}100%{transform:rotate(359deg)}}}\n",
    "\n",
    "  .wordmark {animation:w3-spin 2s infinite cubic-bezier(.68,-0.55,.27,1.55);@keyframes w3-spin{0%{transform:rotate(0deg)}100%{transform:rotate(359deg)}}}\n",
    "\n",
    "  .icon {animation: w3-spin 2s infinite linear;}\n",
    "</style>\n",
    "```"
   ]
  },
  {
   "cell_type": "markdown",
   "metadata": {},
   "source": [
    "### Changing the images"
   ]
  },
  {
   "cell_type": "markdown",
   "metadata": {},
   "source": [
    "Then, if you want, you can change the images. There is a symbolic link to them in your bootstrap.py folder. If you want to change them, I would overwrite the symbolic link with the image that you want. Here's the path to them:\n",
    "\n",
    "- Symbolic link path: **\"`{{path to where you put firefox}}`/obj-x86_64-pc-linux-gnu/dist/bin/browser/chrome/browser/content/branding/** (there are a few options in there, but the one that is in the new tab page is \"about-logo.png\")\"\n",
    "\n",
    "- Destination folder of the symbolic link: \"{{path to where you put firefox}}`/browser/branding/unofficial/content/\""
   ]
  },
  {
   "cell_type": "markdown",
   "metadata": {},
   "source": [
    "#### Important: \n",
    "If you want to change the icon, you will have to change the \"about-logo.png\" **and** the \"about-logo@2x.png\". The \"about-logo@2x.png\" is the one that is used when the user increases the zoom on the new tab page."
   ]
  },
  {
   "cell_type": "markdown",
   "metadata": {},
   "source": [
    "It could now look like this for example (after you compile the code; see next step):\n",
    "\n",
    "![new-tab.gif](static/new-tab.gif)"
   ]
  },
  {
   "cell_type": "markdown",
   "metadata": {},
   "source": [
    "Of course, you can change way more than that, but that's all I will show in this notebook."
   ]
  },
  {
   "cell_type": "markdown",
   "metadata": {},
   "source": [
    "### Compiling the code"
   ]
  },
  {
   "cell_type": "markdown",
   "metadata": {},
   "source": [
    "Once you've changed everything that you want to change, you can compile the code by `cd`ing into the path to where you put firefox and running this:"
   ]
  },
  {
   "cell_type": "code",
   "execution_count": null,
   "metadata": {
    "vscode": {
     "languageId": "shellscript"
    }
   },
   "outputs": [],
   "source": [
    "./mach build"
   ]
  },
  {
   "cell_type": "markdown",
   "metadata": {},
   "source": [
    "This will probably take a long time. When it's done, if it's successful, you should get this message:"
   ]
  },
  {
   "cell_type": "markdown",
   "metadata": {},
   "source": [
    "    Your build was successful!\n",
    "\n",
    "    To take your build for a test drive, run: |mach run|\n",
    "\n",
    "    For more information on what to do now, see [https://firefox-source-docs.mozilla.org/setup/contributing_code.html](https://firefox-source-docs.mozilla.org/setup/contributing_code.html)"
   ]
  },
  {
   "cell_type": "markdown",
   "metadata": {},
   "source": [
    "## Running your code!"
   ]
  },
  {
   "cell_type": "markdown",
   "metadata": {},
   "source": [
    "To run your new Firefox, run the following:"
   ]
  },
  {
   "cell_type": "code",
   "execution_count": null,
   "metadata": {
    "vscode": {
     "languageId": "shellscript"
    }
   },
   "outputs": [],
   "source": [
    "./mach run"
   ]
  },
  {
   "cell_type": "markdown",
   "metadata": {},
   "source": [
    "You also might want to create a .desktop with the following: \n",
    "\n",
    "```ini\n",
    "Exec=~/Downloads/bootstrap.py/mach run\n",
    "```"
   ]
  },
  {
   "cell_type": "markdown",
   "metadata": {},
   "source": [
    "<hr/>"
   ]
  },
  {
   "cell_type": "markdown",
   "metadata": {},
   "source": [
    "## Applying the code on startup\n",
    "By deafault, Firefox opens new windows with about:*home* instead of about:*newtab*. So when you open Firefox, it **will not have your changes** on the home page, unless you refresh. To change this, you can follow these steps:\n",
    "\n",
    "<hr />\n",
    "\n",
    "**1.** Go to `about:preferences`\n",
    "\n",
    "![preferences](static/preferences.png)\n",
    "<hr />\n",
    "\n",
    "**2.** Go to the `Home` tab, then find the section labeled `New Windows and Tabs` (or search for \"**New Windows and Tabs**\")\n",
    "\n",
    "![home](static/home.png) → ![new windows and tabs](static/new-windows-and-tabs.png)\n",
    "<hr />\n",
    "\n",
    "**3.** Change the `Homepage and new windows` option from `Firefox Home (Deafault)` to `Custom URLs...`\n",
    "\n",
    "![firefox home](static/firefox-home.png) → ![Custom URLs...](static/custom-url-dropdown.png)\n",
    "<hr />\n",
    "\n",
    "**4.** In the text box, type in \"**about:newtab**\"\n",
    "\n",
    "![custom url textbox original](static/custom-url-textbox-original.png) → ![custom url textbox typed](static/custom-url-textbox-typed.png)\n",
    "<hr />\n",
    "\n",
    "**5.** Restart Nightly. Your changes should be applied.\n",
    "\n",
    "![quit nightly](static/quit-nightly.png)\n",
    "<hr />"
   ]
  },
  {
   "cell_type": "markdown",
   "metadata": {},
   "source": [
    "> If you run into a problem, you can go to [https://firefox-source-docs.mozilla.org/setup/linux_build.html#troubleshooting](https://firefox-source-docs.mozilla.org/setup/linux_build.html#troubleshooting), which should take you to the troubleshoooting section of the website listed earlier in this notebook.\n",
    "\n",
    "<hr />"
   ]
  },
  {
   "cell_type": "markdown",
   "metadata": {},
   "source": [
    "A notebook by Nico\n",
    "\n",
    "![logo](static/symbol.png)"
   ]
  }
 ],
 "metadata": {
  "kernelspec": {
   "display_name": "Bash",
   "language": "bash",
   "name": "bash"
  },
  "language_info": {
   "codemirror_mode": "shell",
   "file_extension": ".sh",
   "mimetype": "text/x-sh",
   "name": "bash"
  }
 },
 "nbformat": 4,
 "nbformat_minor": 2
}
