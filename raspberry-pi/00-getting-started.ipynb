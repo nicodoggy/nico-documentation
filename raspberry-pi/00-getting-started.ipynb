{
 "cells": [
  {
   "cell_type": "markdown",
   "metadata": {},
   "source": [
    "## This course guides you through using a Raspberry Pi 4 with python to do stuff with it's GPIO pins."
   ]
  },
  {
   "cell_type": "markdown",
   "metadata": {},
   "source": [
    "### This notebook helps you get started."
   ]
  },
  {
   "cell_type": "markdown",
   "metadata": {},
   "source": [
    "These are some usefull commands. They are not fully documented on exactly how to get started, but they are a good base."
   ]
  },
  {
   "cell_type": "markdown",
   "metadata": {},
   "source": [
    "\n",
    "```bash\n",
    "install -d ~/.local/src/\n",
    "cd ~/.local/src\n",
    "ssh-keygen \n",
    "cat ~/.ssh/id_rsa.pub \n",
    "git clone git@github.com:nicodoggy/nico-documentation.git\n",
    "sudo apt install ~/Downloads/code_1.91.0-1719859985_arm64.deb \n",
    "/usr/share/code/code /home/ntate/.local/src/nico-documentation/\n",
    "sudo apt install python3-virtualenv\n",
    "virtualenv ~/python\n",
    "sudo apt install vim\n",
    "```"
   ]
  },
  {
   "cell_type": "markdown",
   "metadata": {},
   "source": [
    "## Install bash kernel"
   ]
  },
  {
   "cell_type": "code",
   "execution_count": null,
   "metadata": {},
   "outputs": [],
   "source": [
    "%%bash\n",
    "pip3 install bash_kernel\n",
    "python -m bash_kernel.install"
   ]
  },
  {
   "cell_type": "markdown",
   "metadata": {},
   "source": [
    "## Install Raspberry PI python dependencies"
   ]
  },
  {
   "cell_type": "code",
   "execution_count": null,
   "metadata": {},
   "outputs": [],
   "source": [
    "%%bash\n",
    "pip install RPi.GPIO"
   ]
  }
 ],
 "metadata": {
  "kernelspec": {
   "display_name": "Python 3",
   "language": "python",
   "name": "python3"
  },
  "language_info": {
   "codemirror_mode": {
    "name": "ipython",
    "version": 3
   },
   "file_extension": ".py",
   "mimetype": "text/x-python",
   "name": "python",
   "nbconvert_exporter": "python",
   "pygments_lexer": "ipython3",
   "version": "3.11.2"
  }
 },
 "nbformat": 4,
 "nbformat_minor": 2
}
