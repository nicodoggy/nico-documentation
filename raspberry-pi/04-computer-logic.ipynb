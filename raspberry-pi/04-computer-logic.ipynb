{
 "cells": [
  {
   "cell_type": "markdown",
   "metadata": {},
   "source": [
    "# Computer Logic\n",
    "In this notebook, you will learn how to use two GPIO inputs to create simple computer logic circuits and turn an LED on and off with them."
   ]
  },
  {
   "cell_type": "markdown",
   "metadata": {},
   "source": [
    "##### Import the `GPIO` library and the `sleep()` function"
   ]
  },
  {
   "cell_type": "code",
   "execution_count": null,
   "metadata": {},
   "outputs": [],
   "source": [
    "from RPi import GPIO\n",
    "from time import sleep"
   ]
  },
  {
   "cell_type": "markdown",
   "metadata": {},
   "source": [
    "##### Set board mode"
   ]
  },
  {
   "cell_type": "code",
   "execution_count": null,
   "metadata": {},
   "outputs": [],
   "source": [
    "GPIO.setmode(GPIO.BCM) # Use whichever one you want to use (BOARD or BCM)"
   ]
  },
  {
   "cell_type": "markdown",
   "metadata": {},
   "source": [
    "##### Set pins"
   ]
  },
  {
   "cell_type": "code",
   "execution_count": null,
   "metadata": {},
   "outputs": [],
   "source": [
    "in_pin_0 = 21\n",
    "in_pin_1 = 18\n",
    "\n",
    "out_pin = 12\n",
    "\n",
    "GPIO.setup(in_pin_0, GPIO.IN, pull_up_down = GPIO.PUD_UP)\n",
    "GPIO.setup(in_pin_1, GPIO.IN, pull_up_down = GPIO.PUD_UP)\n",
    "\n",
    "GPIO.setup(out_pin, GPIO.OUT)\n"
   ]
  },
  {
   "cell_type": "markdown",
   "metadata": {},
   "source": [
    "<hr />\n",
    "\n",
    "##### The magic gate demonstrator"
   ]
  },
  {
   "cell_type": "markdown",
   "metadata": {},
   "source": [
    "> You may notice that we say \"*not* GPIO.input\". This is because we want the light to turn on when the user presses the button, but when the user presses the button, it stops the electricity (making it `False`), so we need to `NOT` it to make it `True`."
   ]
  },
  {
   "cell_type": "code",
   "execution_count": null,
   "metadata": {},
   "outputs": [],
   "source": [
    "def demonstrate_gate(gate_function, light_on):\n",
    "    pin_0_pressed = not GPIO.input(in_pin_0)\n",
    "    pin_1_pressed = not GPIO.input(in_pin_1)\n",
    "\n",
    "    gate_name = gate_function.__name__\n",
    "    if gate_name == 'NOT':\n",
    "        print(f'{gate_name} {pin_0_pressed} = {gate_function(pin_0_pressed, pin_1_pressed)}')\n",
    "    else:\n",
    "        print(f'{pin_0_pressed} {gate_name} {pin_1_pressed} = {gate_function(pin_0_pressed, pin_1_pressed)}')\n",
    "    if gate_function(pin_0_pressed, pin_1_pressed):\n",
    "        if not light_on:\n",
    "            light_on = True\n",
    "            GPIO.output(out_pin, 1)\n",
    "    else:\n",
    "        if light_on:\n",
    "            light_on = False\n",
    "            GPIO.output(out_pin, 0)\n",
    "    sleep(.01)\n",
    "    return light_on\n"
   ]
  },
  {
   "cell_type": "markdown",
   "metadata": {},
   "source": [
    "##### Logic gate: `NOT`\n",
    "This gate takes `1` input."
   ]
  },
  {
   "cell_type": "code",
   "execution_count": null,
   "metadata": {},
   "outputs": [],
   "source": [
    "# turn off the light initially\n",
    "light_on = False\n",
    "GPIO.output(out_pin, 0)\n",
    "\n",
    "# the formula for the gate NOT\n",
    "def NOT(a, b): return not a\n",
    "\n",
    "while True:\n",
    "    light_on = demonstrate_gate(NOT, light_on)\n"
   ]
  },
  {
   "cell_type": "markdown",
   "metadata": {},
   "source": [
    "##### Logic gate: `AND`\n",
    "This gate takes `2` inputs."
   ]
  },
  {
   "cell_type": "code",
   "execution_count": null,
   "metadata": {},
   "outputs": [],
   "source": [
    "# turn off the light initially\n",
    "light_on = False\n",
    "GPIO.output(out_pin, 0)\n",
    "\n",
    "# the formula for the gate AND\n",
    "def AND(a, b): return a and b\n",
    "\n",
    "while True:\n",
    "    light_on = demonstrate_gate(AND, light_on)"
   ]
  },
  {
   "cell_type": "markdown",
   "metadata": {},
   "source": [
    "##### Logic gate: `OR`\n",
    "This gate takes `2` inputs."
   ]
  },
  {
   "cell_type": "code",
   "execution_count": null,
   "metadata": {},
   "outputs": [],
   "source": [
    "# turn off the light initially\n",
    "light_on = False\n",
    "GPIO.output(out_pin, 0)\n",
    "\n",
    "# the formula for the gate OR\n",
    "def OR(a, b): return a or b\n",
    "\n",
    "while True:\n",
    "    light_on = demonstrate_gate(OR, light_on)\n"
   ]
  },
  {
   "cell_type": "markdown",
   "metadata": {},
   "source": [
    "##### Logic gate: `XOR`\n",
    "This gate takes `2` inputs."
   ]
  },
  {
   "cell_type": "code",
   "execution_count": null,
   "metadata": {},
   "outputs": [],
   "source": [
    "# turn off the light initially\n",
    "light_on = False\n",
    "GPIO.output(out_pin, 0)\n",
    "\n",
    "# the formula for the gate XOR (same as or but false if both inputs are true)\n",
    "def XOR(a, b): return (a or b) and not (a and b)\n",
    "\n",
    "while True:\n",
    "    light_on = demonstrate_gate(XOR, light_on)\n"
   ]
  },
  {
   "cell_type": "markdown",
   "metadata": {},
   "source": [
    "<hr />"
   ]
  },
  {
   "cell_type": "markdown",
   "metadata": {},
   "source": [
    "##### Clean up after you're done"
   ]
  },
  {
   "cell_type": "code",
   "execution_count": null,
   "metadata": {},
   "outputs": [],
   "source": [
    "GPIO.cleanup()"
   ]
  }
 ],
 "metadata": {
  "kernelspec": {
   "display_name": ".venv",
   "language": "python",
   "name": "python3"
  },
  "language_info": {
   "codemirror_mode": {
    "name": "ipython",
    "version": 3
   },
   "file_extension": ".py",
   "mimetype": "text/x-python",
   "name": "python",
   "nbconvert_exporter": "python",
   "pygments_lexer": "ipython3",
   "version": "3.11.2"
  }
 },
 "nbformat": 4,
 "nbformat_minor": 2
}
